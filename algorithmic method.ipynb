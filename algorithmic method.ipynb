{
 "cells": [
  {
   "cell_type": "markdown",
   "metadata": {
    "cell_id": "b049079e9b8544bba6d4d4826f1e9251",
    "deepnote_cell_type": "text-cell-p",
    "formattedRanges": []
   },
   "source": []
  },
  {
   "cell_type": "code",
   "execution_count": 1,
   "metadata": {
    "cell_id": "68a6909af28f4f0492e0dae63fb6202e",
    "deepnote_cell_type": "code",
    "execution_context_id": "814d134f-88c6-487d-a654-a3fbf7f71b6d",
    "execution_millis": 470,
    "execution_start": 1746204695289,
    "source_hash": "1059c200"
   },
   "outputs": [],
   "source": [
    "import pandas as pd\n",
    "df = pd.read_csv(\"AmesHousing.csv\")"
   ]
  },
  {
   "cell_type": "code",
   "execution_count": 2,
   "metadata": {
    "cell_id": "9f00f0ef9e6944d680373cec58b9ca82",
    "deepnote_cell_type": "code",
    "execution_context_id": "814d134f-88c6-487d-a654-a3fbf7f71b6d",
    "execution_millis": 3,
    "execution_start": 1746204748760,
    "source_hash": "7bcfa2d4"
   },
   "outputs": [
    {
     "name": "stdout",
     "output_type": "stream",
     "text": [
      "   Order        PID  MS SubClass MS Zoning  Lot Frontage  Lot Area Street  \\\n",
      "0      1  526301100           20        RL         141.0     31770   Pave   \n",
      "1      2  526350040           20        RH          80.0     11622   Pave   \n",
      "2      3  526351010           20        RL          81.0     14267   Pave   \n",
      "3      4  526353030           20        RL          93.0     11160   Pave   \n",
      "4      5  527105010           60        RL          74.0     13830   Pave   \n",
      "\n",
      "  Alley Lot Shape Land Contour  ... Pool Area Pool QC  Fence Misc Feature  \\\n",
      "0   NaN       IR1          Lvl  ...         0     NaN    NaN          NaN   \n",
      "1   NaN       Reg          Lvl  ...         0     NaN  MnPrv          NaN   \n",
      "2   NaN       IR1          Lvl  ...         0     NaN    NaN         Gar2   \n",
      "3   NaN       Reg          Lvl  ...         0     NaN    NaN          NaN   \n",
      "4   NaN       IR1          Lvl  ...         0     NaN  MnPrv          NaN   \n",
      "\n",
      "  Misc Val Mo Sold Yr Sold Sale Type  Sale Condition  SalePrice  \n",
      "0        0       5    2010       WD           Normal     215000  \n",
      "1        0       6    2010       WD           Normal     105000  \n",
      "2    12500       6    2010       WD           Normal     172000  \n",
      "3        0       4    2010       WD           Normal     244000  \n",
      "4        0       3    2010       WD           Normal     189900  \n",
      "\n",
      "[5 rows x 82 columns]\n"
     ]
    }
   ],
   "source": [
    "\n",
    "print(df.head())\n"
   ]
  },
  {
   "cell_type": "markdown",
   "metadata": {
    "cell_id": "fd187b0d2d3a4045a854aedd1b5ded15",
    "deepnote_cell_type": "text-cell-p",
    "formattedRanges": []
   },
   "source": [
    "Afficher un aperçu de lecture du dataset"
   ]
  },
  {
   "cell_type": "code",
   "execution_count": 3,
   "metadata": {
    "cell_id": "722613a9581b475f80ba2e142bb01de7",
    "deepnote_cell_type": "code",
    "execution_context_id": "814d134f-88c6-487d-a654-a3fbf7f71b6d",
    "execution_millis": 0,
    "execution_start": 1746204789440,
    "source_hash": "7cfc8609"
   },
   "outputs": [],
   "source": [
    "\n",
    "df = df.drop(columns=['Order', 'PID'])"
   ]
  },
  {
   "cell_type": "code",
   "execution_count": 4,
   "metadata": {
    "cell_id": "512bfc784c16408eba4d67cf1ec05613",
    "deepnote_cell_type": "code",
    "execution_context_id": "814d134f-88c6-487d-a654-a3fbf7f71b6d",
    "execution_millis": 1,
    "execution_start": 1746204822680,
    "source_hash": "963c7099"
   },
   "outputs": [
    {
     "name": "stdout",
     "output_type": "stream",
     "text": [
      "   MS SubClass MS Zoning  Lot Frontage  Lot Area Street Alley Lot Shape  \\\n",
      "0           20        RL         141.0     31770   Pave   NaN       IR1   \n",
      "1           20        RH          80.0     11622   Pave   NaN       Reg   \n",
      "2           20        RL          81.0     14267   Pave   NaN       IR1   \n",
      "3           20        RL          93.0     11160   Pave   NaN       Reg   \n",
      "4           60        RL          74.0     13830   Pave   NaN       IR1   \n",
      "\n",
      "  Land Contour Utilities Lot Config  ... Pool Area Pool QC  Fence  \\\n",
      "0          Lvl    AllPub     Corner  ...         0     NaN    NaN   \n",
      "1          Lvl    AllPub     Inside  ...         0     NaN  MnPrv   \n",
      "2          Lvl    AllPub     Corner  ...         0     NaN    NaN   \n",
      "3          Lvl    AllPub     Corner  ...         0     NaN    NaN   \n",
      "4          Lvl    AllPub     Inside  ...         0     NaN  MnPrv   \n",
      "\n",
      "  Misc Feature Misc Val Mo Sold  Yr Sold  Sale Type  Sale Condition  SalePrice  \n",
      "0          NaN        0       5     2010        WD           Normal     215000  \n",
      "1          NaN        0       6     2010        WD           Normal     105000  \n",
      "2         Gar2    12500       6     2010        WD           Normal     172000  \n",
      "3          NaN        0       4     2010        WD           Normal     244000  \n",
      "4          NaN        0       3     2010        WD           Normal     189900  \n",
      "\n",
      "[5 rows x 80 columns]\n"
     ]
    }
   ],
   "source": [
    "\n",
    "print(df.head())"
   ]
  },
  {
   "cell_type": "code",
   "execution_count": 5,
   "metadata": {
    "cell_id": "7f2a4e13709b4834a601ad83fc112b14",
    "deepnote_cell_type": "code",
    "execution_context_id": "814d134f-88c6-487d-a654-a3fbf7f71b6d",
    "execution_millis": 1,
    "execution_start": 1746204854229,
    "source_hash": "82b4a33e"
   },
   "outputs": [
    {
     "name": "stdout",
     "output_type": "stream",
     "text": [
      "Percentage of NaN per column :\n",
      "Pool QC           99.556314\n",
      "Misc Feature      96.382253\n",
      "Alley             93.242321\n",
      "Fence             80.477816\n",
      "Fireplace Qu      48.532423\n",
      "Lot Frontage      16.723549\n",
      "Garage Yr Blt      5.426621\n",
      "Garage Cond        5.426621\n",
      "Garage Qual        5.426621\n",
      "Garage Finish      5.426621\n",
      "Garage Type        5.358362\n",
      "Bsmt Exposure      2.832765\n",
      "BsmtFin Type 2     2.764505\n",
      "Bsmt Cond          2.730375\n",
      "Bsmt Qual          2.730375\n",
      "BsmtFin Type 1     2.730375\n",
      "Mas Vnr Type       0.784983\n",
      "Mas Vnr Area       0.784983\n",
      "Bsmt Half Bath     0.068259\n",
      "Bsmt Full Bath     0.068259\n",
      "Garage Cars        0.034130\n",
      "BsmtFin SF 2       0.034130\n",
      "BsmtFin SF 1       0.034130\n",
      "Bsmt Unf SF        0.034130\n",
      "Total Bsmt SF      0.034130\n",
      "Garage Area        0.034130\n",
      "Electrical         0.034130\n",
      "dtype: float64\n"
     ]
    }
   ],
   "source": [
    "\n",
    "nan_percent = df.isnull().mean() * 100\n",
    "print(\"Percentage of NaN per column :\")\n",
    "print(nan_percent[nan_percent > 0].sort_values(ascending=False))"
   ]
  },
  {
   "cell_type": "code",
   "execution_count": 6,
   "metadata": {
    "cell_id": "b4b46cadaaa84b7da3cd360f5e927045",
    "deepnote_cell_type": "code",
    "execution_context_id": "814d134f-88c6-487d-a654-a3fbf7f71b6d",
    "execution_millis": 1,
    "execution_start": 1746204892399,
    "source_hash": "eb5002bc"
   },
   "outputs": [],
   "source": [
    "\n",
    "df = df.drop(columns=nan_percent[nan_percent > 40].index)"
   ]
  },
  {
   "cell_type": "code",
   "execution_count": 7,
   "metadata": {
    "cell_id": "d56a88a9fbd148b9869350c8c3dd1e7d",
    "deepnote_cell_type": "code",
    "execution_context_id": "814d134f-88c6-487d-a654-a3fbf7f71b6d",
    "execution_millis": 1,
    "execution_start": 1746204930829,
    "source_hash": "ea8c79d"
   },
   "outputs": [],
   "source": [
    "\n",
    "for col in df.select_dtypes(include=[\"float64\", \"int64\"]).columns:\n",
    "    df[col] = df[col].fillna(df[col].mean())"
   ]
  },
  {
   "cell_type": "code",
   "execution_count": 8,
   "metadata": {
    "cell_id": "676423e44a644bd2ab1ce82df1a8cec3",
    "deepnote_cell_type": "code",
    "execution_context_id": "814d134f-88c6-487d-a654-a3fbf7f71b6d",
    "execution_millis": 0,
    "execution_start": 1746204989349,
    "source_hash": "ad9083b1"
   },
   "outputs": [],
   "source": [
    "\n",
    "for col in df.select_dtypes(include=[\"object\"]).columns:\n",
    "    df[col] = df[col].fillna(df[col].mode()[0])  \n"
   ]
  },
  {
   "cell_type": "code",
   "execution_count": 9,
   "metadata": {
    "cell_id": "9e2c6a4a9d9a438d99f83da148e70eeb",
    "deepnote_cell_type": "code",
    "execution_context_id": "814d134f-88c6-487d-a654-a3fbf7f71b6d",
    "execution_millis": 1,
    "execution_start": 1746205074861,
    "source_hash": "45926f52"
   },
   "outputs": [
    {
     "name": "stdout",
     "output_type": "stream",
     "text": [
      "is there any NaN left ? : 0\n",
      "   MS SubClass MS Zoning  Lot Frontage  Lot Area Street Lot Shape  \\\n",
      "0           20        RL         141.0     31770   Pave       IR1   \n",
      "1           20        RH          80.0     11622   Pave       Reg   \n",
      "2           20        RL          81.0     14267   Pave       IR1   \n",
      "3           20        RL          93.0     11160   Pave       Reg   \n",
      "4           60        RL          74.0     13830   Pave       IR1   \n",
      "\n",
      "  Land Contour Utilities Lot Config Land Slope  ... Enclosed Porch 3Ssn Porch  \\\n",
      "0          Lvl    AllPub     Corner        Gtl  ...              0          0   \n",
      "1          Lvl    AllPub     Inside        Gtl  ...              0          0   \n",
      "2          Lvl    AllPub     Corner        Gtl  ...              0          0   \n",
      "3          Lvl    AllPub     Corner        Gtl  ...              0          0   \n",
      "4          Lvl    AllPub     Inside        Gtl  ...              0          0   \n",
      "\n",
      "  Screen Porch Pool Area Misc Val  Mo Sold  Yr Sold  Sale Type  \\\n",
      "0            0         0        0        5     2010        WD    \n",
      "1          120         0        0        6     2010        WD    \n",
      "2            0         0    12500        6     2010        WD    \n",
      "3            0         0        0        4     2010        WD    \n",
      "4            0         0        0        3     2010        WD    \n",
      "\n",
      "   Sale Condition SalePrice  \n",
      "0          Normal    215000  \n",
      "1          Normal    105000  \n",
      "2          Normal    172000  \n",
      "3          Normal    244000  \n",
      "4          Normal    189900  \n",
      "\n",
      "[5 rows x 75 columns]\n"
     ]
    }
   ],
   "source": [
    "print(\"is there any NaN left ? :\", df.isnull().sum().sum())\n",
    "print(df.head())"
   ]
  },
  {
   "cell_type": "code",
   "execution_count": 10,
   "metadata": {
    "cell_id": "4e39a3fafa6e48e4b1c62fcbb0867b53",
    "deepnote_cell_type": "code",
    "execution_context_id": "814d134f-88c6-487d-a654-a3fbf7f71b6d",
    "execution_millis": 0,
    "execution_start": 1746205116789,
    "source_hash": "f98bc40c"
   },
   "outputs": [],
   "source": [
    "df_encoded = pd.get_dummies(df, drop_first=True)"
   ]
  },
  {
   "cell_type": "code",
   "execution_count": 11,
   "metadata": {
    "cell_id": "e28b061b13d245d19fff1cb4b8a3e1a8",
    "deepnote_cell_type": "code",
    "execution_context_id": "814d134f-88c6-487d-a654-a3fbf7f71b6d",
    "execution_millis": 1,
    "execution_start": 1746205177860,
    "source_hash": "fafd5aa0"
   },
   "outputs": [
    {
     "name": "stdout",
     "output_type": "stream",
     "text": [
      "Dimensions after encoding: (2930, 247)\n",
      "   MS SubClass  Lot Frontage  Lot Area  Overall Qual  Overall Cond  \\\n",
      "0           20         141.0     31770             6             5   \n",
      "1           20          80.0     11622             5             6   \n",
      "2           20          81.0     14267             6             6   \n",
      "3           20          93.0     11160             7             5   \n",
      "4           60          74.0     13830             5             5   \n",
      "\n",
      "   Year Built  Year Remod/Add  Mas Vnr Area  BsmtFin SF 1  BsmtFin SF 2  ...  \\\n",
      "0        1960            1960         112.0         639.0           0.0  ...   \n",
      "1        1961            1961           0.0         468.0         144.0  ...   \n",
      "2        1958            1958         108.0         923.0           0.0  ...   \n",
      "3        1968            1968           0.0        1065.0           0.0  ...   \n",
      "4        1997            1998           0.0         791.0           0.0  ...   \n",
      "\n",
      "   Sale Type_ConLw  Sale Type_New  Sale Type_Oth  Sale Type_VWD  \\\n",
      "0                0              0              0              0   \n",
      "1                0              0              0              0   \n",
      "2                0              0              0              0   \n",
      "3                0              0              0              0   \n",
      "4                0              0              0              0   \n",
      "\n",
      "   Sale Type_WD   Sale Condition_AdjLand  Sale Condition_Alloca  \\\n",
      "0              1                       0                      0   \n",
      "1              1                       0                      0   \n",
      "2              1                       0                      0   \n",
      "3              1                       0                      0   \n",
      "4              1                       0                      0   \n",
      "\n",
      "   Sale Condition_Family  Sale Condition_Normal  Sale Condition_Partial  \n",
      "0                      0                      1                       0  \n",
      "1                      0                      1                       0  \n",
      "2                      0                      1                       0  \n",
      "3                      0                      1                       0  \n",
      "4                      0                      1                       0  \n",
      "\n",
      "[5 rows x 247 columns]\n"
     ]
    }
   ],
   "source": [
    "print(\"Dimensions after encoding:\", df_encoded.shape)\n",
    "print(df_encoded.head())\n"
   ]
  },
  {
   "cell_type": "code",
   "execution_count": 12,
   "metadata": {
    "cell_id": "713974ffa8444afd802e2c4db133757d",
    "deepnote_cell_type": "code",
    "execution_context_id": "814d134f-88c6-487d-a654-a3fbf7f71b6d",
    "execution_millis": 702,
    "execution_start": 1746205676932,
    "source_hash": "866b8212"
   },
   "outputs": [],
   "source": [
    "from sklearn.preprocessing import StandardScaler"
   ]
  },
  {
   "cell_type": "code",
   "execution_count": 15,
   "metadata": {
    "cell_id": "73083c7f9b1144cd8098f7ae15f0221e",
    "deepnote_cell_type": "code",
    "execution_context_id": "814d134f-88c6-487d-a654-a3fbf7f71b6d",
    "execution_millis": 0,
    "execution_start": 1746205631269,
    "source_hash": "10233066"
   },
   "outputs": [],
   "source": [
    "X = df_encoded.drop(columns=['SalePrice'])  \n",
    "y = df_encoded['SalePrice']                 "
   ]
  },
  {
   "cell_type": "code",
   "execution_count": 16,
   "metadata": {
    "cell_id": "0284ed06ef2a4a08ab5abf357bd8cb33",
    "deepnote_cell_type": "code",
    "execution_context_id": "814d134f-88c6-487d-a654-a3fbf7f71b6d",
    "execution_millis": 2,
    "execution_start": 1746205681255,
    "source_hash": "731ebdb3"
   },
   "outputs": [],
   "source": [
    "scaler = StandardScaler()\n"
   ]
  },
  {
   "cell_type": "code",
   "execution_count": 17,
   "metadata": {
    "cell_id": "b180d57e9ac547cba05f0c5de7c03a86",
    "deepnote_cell_type": "code",
    "execution_context_id": "814d134f-88c6-487d-a654-a3fbf7f71b6d",
    "execution_millis": 1,
    "execution_start": 1746205720769,
    "source_hash": "85e86487"
   },
   "outputs": [],
   "source": [
    "X_scaled = scaler.fit_transform(X)\n"
   ]
  },
  {
   "cell_type": "code",
   "execution_count": 18,
   "metadata": {
    "cell_id": "d7a5727f2ea94035a053aa46d1b4e9d8",
    "deepnote_cell_type": "code",
    "execution_context_id": "814d134f-88c6-487d-a654-a3fbf7f71b6d",
    "execution_millis": 0,
    "execution_start": 1746205750859,
    "source_hash": "71891546"
   },
   "outputs": [],
   "source": [
    "X_scaled = pd.DataFrame(X_scaled, columns=X.columns)"
   ]
  },
  {
   "cell_type": "code",
   "execution_count": 19,
   "metadata": {
    "cell_id": "3d1ed32a0e384d52a1fde4ee14de1e82",
    "deepnote_cell_type": "code",
    "execution_context_id": "814d134f-88c6-487d-a654-a3fbf7f71b6d",
    "execution_millis": 0,
    "execution_start": 1746205804299,
    "source_hash": "6caf0d7f"
   },
   "outputs": [
    {
     "name": "stdout",
     "output_type": "stream",
     "text": [
      "Overview of standardized variables:\n",
      "   MS SubClass  Lot Frontage  Lot Area  Overall Qual  Overall Cond  \\\n",
      "0    -0.877005      3.366911  2.744381     -0.067254     -0.506718   \n",
      "1    -0.877005      0.505463  0.187097     -0.776079      0.393091   \n",
      "2    -0.877005      0.552372  0.522814     -0.067254      0.393091   \n",
      "3    -0.877005      1.115280  0.128458      0.641571     -0.506718   \n",
      "4     0.061285      0.224010  0.467348     -0.776079     -0.506718   \n",
      "\n",
      "   Year Built  Year Remod/Add  Mas Vnr Area  BsmtFin SF 1  BsmtFin SF 2  ...  \\\n",
      "0   -0.375537       -1.163488      0.056639      0.431171     -0.294023  ...   \n",
      "1   -0.342468       -1.115542     -0.571242      0.055706      0.557490  ...   \n",
      "2   -0.441674       -1.259380      0.034215      1.054750     -0.294023  ...   \n",
      "3   -0.110988       -0.779919     -0.571242      1.366540     -0.294023  ...   \n",
      "4    0.848000        0.658466     -0.571242      0.764917     -0.294023  ...   \n",
      "\n",
      "   Sale Type_ConLw  Sale Type_New  Sale Type_Oth  Sale Type_VWD  \\\n",
      "0        -0.052324      -0.298018      -0.048937      -0.018477   \n",
      "1        -0.052324      -0.298018      -0.048937      -0.018477   \n",
      "2        -0.052324      -0.298018      -0.048937      -0.018477   \n",
      "3        -0.052324      -0.298018      -0.048937      -0.018477   \n",
      "4        -0.052324      -0.298018      -0.048937      -0.018477   \n",
      "\n",
      "   Sale Type_WD   Sale Condition_AdjLand  Sale Condition_Alloca  \\\n",
      "0       0.394161               -0.064128              -0.090878   \n",
      "1       0.394161               -0.064128              -0.090878   \n",
      "2       0.394161               -0.064128              -0.090878   \n",
      "3       0.394161               -0.064128              -0.090878   \n",
      "4       0.394161               -0.064128              -0.090878   \n",
      "\n",
      "   Sale Condition_Family  Sale Condition_Normal  Sale Condition_Partial  \n",
      "0              -0.126294               0.462878               -0.302072  \n",
      "1              -0.126294               0.462878               -0.302072  \n",
      "2              -0.126294               0.462878               -0.302072  \n",
      "3              -0.126294               0.462878               -0.302072  \n",
      "4              -0.126294               0.462878               -0.302072  \n",
      "\n",
      "[5 rows x 246 columns]\n"
     ]
    }
   ],
   "source": [
    "print(\"Overview of standardized variables:\")\n",
    "print(X_scaled.head())\n"
   ]
  },
  {
   "cell_type": "code",
   "execution_count": 20,
   "metadata": {
    "cell_id": "f0915887c21640f39b3e091f5ffc7993",
    "deepnote_cell_type": "code",
    "execution_context_id": "814d134f-88c6-487d-a654-a3fbf7f71b6d",
    "execution_millis": 2,
    "execution_start": 1746205912560,
    "source_hash": "3579b46a"
   },
   "outputs": [],
   "source": [
    "import numpy as np\n",
    "\n",
    "def soft_thresholding(z, lmbd):\n",
    "    if z > lmbd:\n",
    "        return z - lmbd\n",
    "    elif z < -lmbd:\n",
    "        return z + lmbd\n",
    "    else:\n",
    "        return 0.0\n",
    "\n",
    "def lasso_coordinate_descent(X, y, lmbd, max_iter=1000, tol=1e-6):\n",
    "    n, p = X.shape\n",
    "    theta = np.zeros(p)\n",
    "    X_norms = np.sum(X ** 2, axis=0)\n",
    "\n",
    "    for iteration in range(max_iter):\n",
    "        theta_old = theta.copy()\n",
    "\n",
    "        for j in range(p):\n",
    "            \n",
    "            r_j = y - X @ theta + theta[j] * X[:, j]\n",
    "            rho = np.dot(X[:, j], r_j)\n",
    "\n",
    "            \n",
    "            theta[j] = soft_thresholding(rho / X_norms[j], lmbd / X_norms[j])\n",
    "\n",
    "       \n",
    "        if np.linalg.norm(theta - theta_old, ord=np.inf) < tol:\n",
    "            print(\"Convergence reached at iteration\", iteration + 1)\n",
    "            return theta\n",
    "\n",
    "    print(\"End of iterations (not yet converged)\")\n",
    "    return theta\n"
   ]
  },
  {
   "cell_type": "code",
   "execution_count": 21,
   "metadata": {
    "cell_id": "3afb1cdc2eae4251936d8a7783149c23",
    "deepnote_cell_type": "code",
    "execution_context_id": "814d134f-88c6-487d-a654-a3fbf7f71b6d",
    "execution_millis": 100734,
    "execution_start": 1746206145985,
    "source_hash": "ca10da0f"
   },
   "outputs": [
    {
     "name": "stdout",
     "output_type": "stream",
     "text": [
      "End of iterations (not yet converged)\n"
     ]
    }
   ],
   "source": [
    "lambda_val = 0.1\n",
    "theta_hat = lasso_coordinate_descent(X_scaled.values, y.values, lmbd=lambda_val)\n"
   ]
  },
  {
   "cell_type": "code",
   "execution_count": 22,
   "metadata": {
    "cell_id": "c3e8fab85c8f400eaefe4ad10f4f6ab8",
    "deepnote_cell_type": "code",
    "execution_context_id": "814d134f-88c6-487d-a654-a3fbf7f71b6d",
    "execution_millis": 0,
    "execution_start": 1746206283639,
    "source_hash": "cdcff756"
   },
   "outputs": [
    {
     "name": "stdout",
     "output_type": "stream",
     "text": [
      "Estimated Lasso Coefficients :\n",
      "MS SubClass              -2862.171132\n",
      "Lot Frontage               855.083205\n",
      "Lot Area                  4615.474884\n",
      "Overall Qual              9791.040266\n",
      "Overall Cond              6307.609263\n",
      "                             ...     \n",
      "Sale Condition_AdjLand    1313.021441\n",
      "Sale Condition_Alloca      799.099765\n",
      "Sale Condition_Family      164.321862\n",
      "Sale Condition_Normal     2663.572510\n",
      "Sale Condition_Partial    1598.195754\n",
      "Length: 246, dtype: float64\n"
     ]
    }
   ],
   "source": [
    "print(\"Estimated Lasso Coefficients :\")\n",
    "print(pd.Series(theta_hat, index=X_scaled.columns))\n"
   ]
  },
  {
   "cell_type": "code",
   "execution_count": 25,
   "metadata": {
    "cell_id": "f30945117fac4b78bd2fe192832077f0",
    "deepnote_cell_type": "code",
    "execution_context_id": "814d134f-88c6-487d-a654-a3fbf7f71b6d",
    "execution_millis": 0,
    "execution_start": 1746206344529,
    "source_hash": "8518fb3a"
   },
   "outputs": [
    {
     "name": "stdout",
     "output_type": "stream",
     "text": [
      "Most infuential variables :\n",
      "Roof Matl_CompShg    72996.269868\n",
      "Roof Matl_Tar&Grv    54861.340604\n",
      "Roof Matl_WdShake    33625.632114\n",
      "Roof Matl_WdShngl    32519.333448\n",
      "2nd Flr SF           23252.847650\n",
      "Garage Qual_TA      -16278.920899\n",
      "1st Flr SF           15208.513540\n",
      "Garage Qual_Fa      -14719.472203\n",
      "Exter Qual_TA       -12680.414102\n",
      "Roof Matl_Membran    12500.012296\n",
      "Roof Matl_Metal      12297.229152\n",
      "BsmtFin SF 1         12132.191628\n",
      "Kitchen Qual_TA     -11689.747750\n",
      "Exter Qual_Gd       -11590.019571\n",
      "Roof Matl_Roll       11202.892024\n",
      "dtype: float64\n"
     ]
    }
   ],
   "source": [
    "coeffs = pd.Series(theta_hat, index=X_scaled.columns)\n",
    "coeffs_nonzero = coeffs[coeffs != 0]\n",
    "print(\"Most infuential variables :\")\n",
    "print(coeffs_nonzero.sort_values(key=abs, ascending=False).head(15))\n"
   ]
  },
  {
   "cell_type": "code",
   "execution_count": 26,
   "metadata": {
    "cell_id": "7b4168043e724c83abdb9c129cc8cb83",
    "deepnote_cell_type": "code",
    "execution_context_id": "814d134f-88c6-487d-a654-a3fbf7f71b6d",
    "execution_millis": 0,
    "execution_start": 1746206907950,
    "source_hash": "e4778c66"
   },
   "outputs": [],
   "source": [
    "top_coeffs = coeffs[coeffs != 0].reindex(coeffs.abs().sort_values(ascending=False).index).head(15)"
   ]
  },
  {
   "cell_type": "code",
   "execution_count": null,
   "metadata": {
    "cell_id": "ce5fffadd8a64c35854d350c3e9b778d",
    "deepnote_cell_type": "code",
    "execution_context_id": "814d134f-88c6-487d-a654-a3fbf7f71b6d",
    "execution_millis": 223,
    "execution_start": 1746207141899,
    "source_hash": "f1bd35b3"
   },
   "outputs": [
    {
     "data": {
      "image/png": "[encoded data removed]",
      "text/plain": [
       "<Figure size 720x432 with 1 Axes>"
      ]
     },
     "metadata": {
      "needs_background": "light"
     },
     "output_type": "display_data"
    }
   ],
   "source": [
    "import matplotlib.pyplot as plt\n",
    "\n",
    "top_15_idx = coeffs[coeffs != 0].abs().sort_values(ascending=False).head(15).index\n",
    "top_15_real = coeffs.loc[top_15_idx]\n",
    "top_15_real = top_15_real.sort_values()  \n",
    "\n",
    "\n",
    "plt.figure(figsize=(10, 6))\n",
    "plt.hlines(y=top_15_real.index, xmin=0, xmax=top_15_real.values, \n",
    "           color=np.where(top_15_real.values > 0, 'green', 'red'), linewidth=2)\n",
    "plt.plot(top_15_real.values, top_15_real.index, 'o', \n",
    "         color='black', markersize=7)\n",
    "\n",
    "plt.axvline(x=0, color='gray', linestyle='--', linewidth=1)\n",
    "plt.title(\"Top 15 Most Influential Features (Lasso Coefficients)\", fontsize=14)\n",
    "plt.xlabel(\"Coefficient Value\", fontsize=12)\n",
    "plt.grid(axis='x', linestyle=':', alpha=0.7)\n",
    "plt.tight_layout()\n",
    "plt.show()"
   ]
  }
 ],
 "metadata": {
  "deepnote_notebook_id": "743e09a06ff645acbdd723bc50ff22db",
  "kernelspec": {
   "display_name": "base",
   "language": "python",
   "name": "python3"
  },
  "language_info": {
   "codemirror_mode": {
    "name": "ipython",
    "version": 3
   },
   "file_extension": ".py",
   "mimetype": "text/x-python",
   "name": "python",
   "nbconvert_exporter": "python",
   "pygments_lexer": "ipython3",
   "version": "3.8.5"
  }
 },
 "nbformat": 4,
 "nbformat_minor": 0
}
